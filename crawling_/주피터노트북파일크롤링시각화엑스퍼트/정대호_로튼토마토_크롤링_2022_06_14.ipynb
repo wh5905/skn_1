{
 "cells": [
  {
   "cell_type": "markdown",
   "id": "695da2a8",
   "metadata": {},
   "source": [
    "패키지 임포트"
   ]
  },
  {
   "cell_type": "code",
   "execution_count": 1,
   "id": "ade5814c",
   "metadata": {},
   "outputs": [
    {
     "data": {
      "text/plain": [
       "'C:\\\\Users\\\\EXC'"
      ]
     },
     "execution_count": 1,
     "metadata": {},
     "output_type": "execute_result"
    }
   ],
   "source": [
    "import os\n",
    "import time\n",
    "\n",
    "os.getcwd()"
   ]
  },
  {
   "cell_type": "code",
   "execution_count": 2,
   "id": "a40e7441",
   "metadata": {},
   "outputs": [],
   "source": [
    "# 패키지 임포트\n",
    "from bs4 import BeautifulSoup\n",
    "import requests\n",
    "import pandas as pd\n",
    "from tqdm import tqdm\n",
    "from lxml import etree\n"
   ]
  },
  {
   "cell_type": "code",
   "execution_count": 3,
   "id": "a364c1bf",
   "metadata": {},
   "outputs": [
    {
     "name": "stderr",
     "output_type": "stream",
     "text": [
      "C:\\Users\\Public\\Documents\\ESTsoft\\CreatorTemp\\ipykernel_38148\\2462927328.py:5: DeprecationWarning: executable_path has been deprecated, please pass in a Service object\n",
      "  driver = webdriver.Chrome('C:\\\\Users\\\\EXC\\\\Desktop\\\\chromedriver_win32\\\\chromedriver.exe')\n"
     ]
    }
   ],
   "source": [
    "from selenium import webdriver\n",
    "\n",
    "from selenium.webdriver.common.by import By\n",
    "\n",
    "driver = webdriver.Chrome('C:\\\\Users\\\\EXC\\\\Desktop\\\\chromedriver_win32\\\\chromedriver.exe')\n"
   ]
  },
  {
   "cell_type": "code",
   "execution_count": 4,
   "id": "ca17445e",
   "metadata": {},
   "outputs": [],
   "source": [
    "urls = []\n",
    "BASIC_URL = 'https://www.rottentomatoes.com/browse/movies_in_theaters/?page='\n",
    "\n",
    "page_nums = list(range(1, 101))\n",
    "for page_num in page_nums:\n",
    "    urls.append(f\"{BASIC_URL}{page_num}\")\n",
    "        \n",
    "    \n"
   ]
  },
  {
   "cell_type": "code",
   "execution_count": 5,
   "id": "353a99f7",
   "metadata": {},
   "outputs": [],
   "source": [
    "img_list = []\n",
    "tomato_ratio_list = []\n",
    "popcorn_ratio_list = []\n",
    "title_list = []"
   ]
  },
  {
   "cell_type": "code",
   "execution_count": 10,
   "id": "b0592447",
   "metadata": {},
   "outputs": [
    {
     "name": "stderr",
     "output_type": "stream",
     "text": [
      "진행도:   3%|██▌                                                                        | 1/30 [00:04<02:16,  4.70s/it]\n"
     ]
    },
    {
     "ename": "InvalidSessionIdException",
     "evalue": "Message: invalid session id\nStacktrace:\nBacktrace:\n\tOrdinal0 [0x00E2D953+2414931]\n\tOrdinal0 [0x00DBF5E1+1963489]\n\tOrdinal0 [0x00CAC580+836992]\n\tOrdinal0 [0x00CCE53D+976189]\n\tOrdinal0 [0x00CCF756+980822]\n\tGetHandleVerifier [0x0109CC62+2510274]\n\tGetHandleVerifier [0x0108F760+2455744]\n\tGetHandleVerifier [0x00EBEABA+551962]\n\tGetHandleVerifier [0x00EBD916+547446]\n\tOrdinal0 [0x00DC5F3B+1990459]\n\tOrdinal0 [0x00DCA898+2009240]\n\tOrdinal0 [0x00DCA985+2009477]\n\tOrdinal0 [0x00DD3AD1+2046673]\n\tBaseThreadInitThunk [0x7744FA29+25]\n\tRtlGetAppContainerNamedObjectPath [0x77887A7E+286]\n\tRtlGetAppContainerNamedObjectPath [0x77887A4E+238]\n",
     "output_type": "error",
     "traceback": [
      "\u001b[1;31m---------------------------------------------------------------------------\u001b[0m",
      "\u001b[1;31mInvalidSessionIdException\u001b[0m                 Traceback (most recent call last)",
      "Input \u001b[1;32mIn [10]\u001b[0m, in \u001b[0;36m<cell line: 11>\u001b[1;34m()\u001b[0m\n\u001b[0;32m     14\u001b[0m \u001b[38;5;66;03m# 한페이지당 30편의 영화\u001b[39;00m\n\u001b[0;32m     15\u001b[0m \u001b[38;5;28;01mfor\u001b[39;00m i \u001b[38;5;129;01min\u001b[39;00m tqdm(\u001b[38;5;28mrange\u001b[39m(\u001b[38;5;241m0\u001b[39m,\u001b[38;5;241m30\u001b[39m), desc\u001b[38;5;241m=\u001b[39m\u001b[38;5;124m\"\u001b[39m\u001b[38;5;124m진행도\u001b[39m\u001b[38;5;124m\"\u001b[39m, mininterval\u001b[38;5;241m=\u001b[39m\u001b[38;5;241m0.01\u001b[39m):\n\u001b[1;32m---> 16\u001b[0m     img_list\u001b[38;5;241m.\u001b[39mappend(\u001b[43mdriver\u001b[49m\u001b[38;5;241;43m.\u001b[39;49m\u001b[43mfind_elements\u001b[49m\u001b[43m(\u001b[49m\u001b[43mBy\u001b[49m\u001b[38;5;241;43m.\u001b[39;49m\u001b[43mXPATH\u001b[49m\u001b[43m,\u001b[49m\u001b[43m \u001b[49m\u001b[38;5;124;43m'\u001b[39;49m\u001b[38;5;124;43m//*[contains(concat( \u001b[39;49m\u001b[38;5;124;43m\"\u001b[39;49m\u001b[38;5;124;43m \u001b[39;49m\u001b[38;5;124;43m\"\u001b[39;49m\u001b[38;5;124;43m, @class, \u001b[39;49m\u001b[38;5;124;43m\"\u001b[39;49m\u001b[38;5;124;43m \u001b[39;49m\u001b[38;5;124;43m\"\u001b[39;49m\u001b[38;5;124;43m ), concat( \u001b[39;49m\u001b[38;5;124;43m\"\u001b[39;49m\u001b[38;5;124;43m \u001b[39;49m\u001b[38;5;124;43m\"\u001b[39;49m\u001b[38;5;124;43m, \u001b[39;49m\u001b[38;5;124;43m\"\u001b[39;49m\u001b[38;5;124;43mjs-lazyLoad\u001b[39;49m\u001b[38;5;124;43m\"\u001b[39;49m\u001b[38;5;124;43m, \u001b[39;49m\u001b[38;5;124;43m\"\u001b[39;49m\u001b[38;5;124;43m \u001b[39;49m\u001b[38;5;124;43m\"\u001b[39;49m\u001b[38;5;124;43m ))]\u001b[39;49m\u001b[38;5;124;43m'\u001b[39;49m\u001b[43m)\u001b[49m[i]\u001b[38;5;241m.\u001b[39mget_attribute(\u001b[38;5;124m'\u001b[39m\u001b[38;5;124msrc\u001b[39m\u001b[38;5;124m'\u001b[39m))\n\u001b[0;32m     17\u001b[0m     title_list\u001b[38;5;241m.\u001b[39mappend(driver\u001b[38;5;241m.\u001b[39mfind_elements(By\u001b[38;5;241m.\u001b[39mXPATH, \u001b[38;5;124m'\u001b[39m\u001b[38;5;124m//*[contains(concat( \u001b[39m\u001b[38;5;124m\"\u001b[39m\u001b[38;5;124m \u001b[39m\u001b[38;5;124m\"\u001b[39m\u001b[38;5;124m, @class, \u001b[39m\u001b[38;5;124m\"\u001b[39m\u001b[38;5;124m \u001b[39m\u001b[38;5;124m\"\u001b[39m\u001b[38;5;124m ), concat( \u001b[39m\u001b[38;5;124m\"\u001b[39m\u001b[38;5;124m \u001b[39m\u001b[38;5;124m\"\u001b[39m\u001b[38;5;124m, \u001b[39m\u001b[38;5;124m\"\u001b[39m\u001b[38;5;124mp--small\u001b[39m\u001b[38;5;124m\"\u001b[39m\u001b[38;5;124m, \u001b[39m\u001b[38;5;124m\"\u001b[39m\u001b[38;5;124m \u001b[39m\u001b[38;5;124m\"\u001b[39m\u001b[38;5;124m ))]\u001b[39m\u001b[38;5;124m'\u001b[39m)[i]\u001b[38;5;241m.\u001b[39mtext)\n\u001b[0;32m     18\u001b[0m     tomato_ratio_list\u001b[38;5;241m.\u001b[39mappend(driver\u001b[38;5;241m.\u001b[39mfind_elements(By\u001b[38;5;241m.\u001b[39mXPATH, \u001b[38;5;124m'\u001b[39m\u001b[38;5;124m//score-pairs\u001b[39m\u001b[38;5;124m'\u001b[39m)[i]\u001b[38;5;241m.\u001b[39mtext\u001b[38;5;241m.\u001b[39msplit(\u001b[38;5;124m\"\u001b[39m\u001b[38;5;130;01m\\n\u001b[39;00m\u001b[38;5;124m\"\u001b[39m)[\u001b[38;5;241m0\u001b[39m])\n",
      "File \u001b[1;32m~\\anaconda3\\lib\\site-packages\\selenium\\webdriver\\remote\\webdriver.py:1284\u001b[0m, in \u001b[0;36mWebDriver.find_elements\u001b[1;34m(self, by, value)\u001b[0m\n\u001b[0;32m   1280\u001b[0m     value \u001b[38;5;241m=\u001b[39m \u001b[38;5;124m'\u001b[39m\u001b[38;5;124m[name=\u001b[39m\u001b[38;5;124m\"\u001b[39m\u001b[38;5;132;01m%s\u001b[39;00m\u001b[38;5;124m\"\u001b[39m\u001b[38;5;124m]\u001b[39m\u001b[38;5;124m'\u001b[39m \u001b[38;5;241m%\u001b[39m value\n\u001b[0;32m   1282\u001b[0m \u001b[38;5;66;03m# Return empty list if driver returns null\u001b[39;00m\n\u001b[0;32m   1283\u001b[0m \u001b[38;5;66;03m# See https://github.com/SeleniumHQ/selenium/issues/4555\u001b[39;00m\n\u001b[1;32m-> 1284\u001b[0m \u001b[38;5;28;01mreturn\u001b[39;00m \u001b[38;5;28;43mself\u001b[39;49m\u001b[38;5;241;43m.\u001b[39;49m\u001b[43mexecute\u001b[49m\u001b[43m(\u001b[49m\u001b[43mCommand\u001b[49m\u001b[38;5;241;43m.\u001b[39;49m\u001b[43mFIND_ELEMENTS\u001b[49m\u001b[43m,\u001b[49m\u001b[43m \u001b[49m\u001b[43m{\u001b[49m\n\u001b[0;32m   1285\u001b[0m \u001b[43m    \u001b[49m\u001b[38;5;124;43m'\u001b[39;49m\u001b[38;5;124;43musing\u001b[39;49m\u001b[38;5;124;43m'\u001b[39;49m\u001b[43m:\u001b[49m\u001b[43m \u001b[49m\u001b[43mby\u001b[49m\u001b[43m,\u001b[49m\n\u001b[0;32m   1286\u001b[0m \u001b[43m    \u001b[49m\u001b[38;5;124;43m'\u001b[39;49m\u001b[38;5;124;43mvalue\u001b[39;49m\u001b[38;5;124;43m'\u001b[39;49m\u001b[43m:\u001b[49m\u001b[43m \u001b[49m\u001b[43mvalue\u001b[49m\u001b[43m}\u001b[49m\u001b[43m)\u001b[49m[\u001b[38;5;124m'\u001b[39m\u001b[38;5;124mvalue\u001b[39m\u001b[38;5;124m'\u001b[39m] \u001b[38;5;129;01mor\u001b[39;00m []\n",
      "File \u001b[1;32m~\\anaconda3\\lib\\site-packages\\selenium\\webdriver\\remote\\webdriver.py:430\u001b[0m, in \u001b[0;36mWebDriver.execute\u001b[1;34m(self, driver_command, params)\u001b[0m\n\u001b[0;32m    428\u001b[0m response \u001b[38;5;241m=\u001b[39m \u001b[38;5;28mself\u001b[39m\u001b[38;5;241m.\u001b[39mcommand_executor\u001b[38;5;241m.\u001b[39mexecute(driver_command, params)\n\u001b[0;32m    429\u001b[0m \u001b[38;5;28;01mif\u001b[39;00m response:\n\u001b[1;32m--> 430\u001b[0m     \u001b[38;5;28;43mself\u001b[39;49m\u001b[38;5;241;43m.\u001b[39;49m\u001b[43merror_handler\u001b[49m\u001b[38;5;241;43m.\u001b[39;49m\u001b[43mcheck_response\u001b[49m\u001b[43m(\u001b[49m\u001b[43mresponse\u001b[49m\u001b[43m)\u001b[49m\n\u001b[0;32m    431\u001b[0m     response[\u001b[38;5;124m'\u001b[39m\u001b[38;5;124mvalue\u001b[39m\u001b[38;5;124m'\u001b[39m] \u001b[38;5;241m=\u001b[39m \u001b[38;5;28mself\u001b[39m\u001b[38;5;241m.\u001b[39m_unwrap_value(\n\u001b[0;32m    432\u001b[0m         response\u001b[38;5;241m.\u001b[39mget(\u001b[38;5;124m'\u001b[39m\u001b[38;5;124mvalue\u001b[39m\u001b[38;5;124m'\u001b[39m, \u001b[38;5;28;01mNone\u001b[39;00m))\n\u001b[0;32m    433\u001b[0m     \u001b[38;5;28;01mreturn\u001b[39;00m response\n",
      "File \u001b[1;32m~\\anaconda3\\lib\\site-packages\\selenium\\webdriver\\remote\\errorhandler.py:247\u001b[0m, in \u001b[0;36mErrorHandler.check_response\u001b[1;34m(self, response)\u001b[0m\n\u001b[0;32m    245\u001b[0m         alert_text \u001b[38;5;241m=\u001b[39m value[\u001b[38;5;124m'\u001b[39m\u001b[38;5;124malert\u001b[39m\u001b[38;5;124m'\u001b[39m]\u001b[38;5;241m.\u001b[39mget(\u001b[38;5;124m'\u001b[39m\u001b[38;5;124mtext\u001b[39m\u001b[38;5;124m'\u001b[39m)\n\u001b[0;32m    246\u001b[0m     \u001b[38;5;28;01mraise\u001b[39;00m exception_class(message, screen, stacktrace, alert_text)  \u001b[38;5;66;03m# type: ignore[call-arg]  # mypy is not smart enough here\u001b[39;00m\n\u001b[1;32m--> 247\u001b[0m \u001b[38;5;28;01mraise\u001b[39;00m exception_class(message, screen, stacktrace)\n",
      "\u001b[1;31mInvalidSessionIdException\u001b[0m: Message: invalid session id\nStacktrace:\nBacktrace:\n\tOrdinal0 [0x00E2D953+2414931]\n\tOrdinal0 [0x00DBF5E1+1963489]\n\tOrdinal0 [0x00CAC580+836992]\n\tOrdinal0 [0x00CCE53D+976189]\n\tOrdinal0 [0x00CCF756+980822]\n\tGetHandleVerifier [0x0109CC62+2510274]\n\tGetHandleVerifier [0x0108F760+2455744]\n\tGetHandleVerifier [0x00EBEABA+551962]\n\tGetHandleVerifier [0x00EBD916+547446]\n\tOrdinal0 [0x00DC5F3B+1990459]\n\tOrdinal0 [0x00DCA898+2009240]\n\tOrdinal0 [0x00DCA985+2009477]\n\tOrdinal0 [0x00DD3AD1+2046673]\n\tBaseThreadInitThunk [0x7744FA29+25]\n\tRtlGetAppContainerNamedObjectPath [0x77887A7E+286]\n\tRtlGetAppContainerNamedObjectPath [0x77887A4E+238]\n"
     ]
    }
   ],
   "source": [
    "# //*[@id=\"main-page-content\"]/div/div[3]/div/div/a[1]/tile-dynamic/div/score-pairs//div/score-icon-critic//div/span[2]\n",
    "# //*[@id=\"main-page-content\"]/div/div[3]/div/div/a[1]/tile-dynamic/div/score-pairs//div/score-icon-audience//div/span[2]\n",
    "\n",
    "# //*[@id=\"main-page-content\"]/div/div[3]/div/div/a[11]/tile-dynamic/div/score-pairs//div/score-icon-critic//div/span[2]\n",
    "#   //*[@id=\"main-page-content\"]/div/div[3]/div/div/a[1]/tile-dynamic/div/score-pairs//div/score-icon-critic//div/span[2]\n",
    "\n",
    "# //*[@id=\"main-page-content\"]/div/div[3]/div/div/a[' + str(i+1) + ']/tile-dynamic/div/score-pairs//div/score-icon-audience//div/span[2]\n",
    "# for ii in tqdm(range(0, 0), desc=\"진행도\", mininterval=0.01):\n",
    "\n",
    "# 원하는 페이지까지 \n",
    "for ii in range(0, 3):\n",
    "    driver.get(urls[ii])\n",
    "    driver.implicitly_wait(3)\n",
    "    # 한페이지당 30편의 영화\n",
    "    for i in tqdm(range(0,30), desc=\"진행도\", mininterval=0.01):\n",
    "        img_list.append(driver.find_elements(By.XPATH, '//*[contains(concat( \" \", @class, \" \" ), concat( \" \", \"js-lazyLoad\", \" \" ))]')[i].get_attribute('src'))\n",
    "        title_list.append(driver.find_elements(By.XPATH, '//*[contains(concat( \" \", @class, \" \" ), concat( \" \", \"p--small\", \" \" ))]')[i].text)\n",
    "        tomato_ratio_list.append(driver.find_elements(By.XPATH, '//score-pairs')[i].text.split(\"\\n\")[0])\n",
    "        popcorn_ratio_list.append(driver.find_elements(By.XPATH, '//score-pairs')[i].text.split(\"\\n\")[1])\n",
    "        driver.close"
   ]
  },
  {
   "cell_type": "code",
   "execution_count": 8,
   "id": "90ff5887",
   "metadata": {},
   "outputs": [
    {
     "name": "stdout",
     "output_type": "stream",
     "text": [
      "['--', '--', '84%', '91%', '100%', '86%', '100%', '79%', '--', '100%', '87%', '--', '--', '--', '--', '100%', '--', '80%', '--', '--', '--', '--', '30%', '97%', '74%', '88%', '88%', '86%', '95%', '11%', '--', '--', '84%', '91%', '100%', '86%', '100%', '79%', '--', '100%', '87%', '--', '--', '--', '--', '100%', '--', '80%', '--', '--', '--', '--', '30%', '97%', '74%', '88%', '88%', '86%', '95%', '11%', '--', '--', '85%', '91%', '100%', '86%', '100%', '79%', '--', '100%', '87%', '--', '--', '--', '--', '100%', '--', '80%', '--', '--', '--', '--', '30%', '97%', '74%', '88%', '88%', '86%', '95%', '11%']\n",
      "['--', '--', '--', '--', '--', '--', '--', '--', '--', '--', '--', '--', '--', '--', '--', '--', '--', '--', '--', '--', '--', '--', '79%', '99%', '86%', '93%', '89%', '97%', '89%', '47%', '--', '--', '--', '--', '--', '--', '--', '--', '--', '--', '--', '--', '--', '--', '--', '--', '--', '--', '--', '--', '--', '--', '79%', '99%', '86%', '93%', '89%', '97%', '89%', '47%', '--', '--', '--', '--', '--', '--', '--', '--', '--', '--', '--', '--', '--', '--', '--', '--', '--', '--', '--', '--', '--', '--', '79%', '99%', '86%', '93%', '89%', '97%', '89%', '47%']\n"
     ]
    }
   ],
   "source": [
    "print(tomato_ratio_list)\n",
    "print(popcorn_ratio_list)"
   ]
  },
  {
   "cell_type": "code",
   "execution_count": 9,
   "id": "54dee23f",
   "metadata": {},
   "outputs": [
    {
     "name": "stdout",
     "output_type": "stream",
     "text": [
      "90<class 'list'>\n",
      "90<class 'list'>\n",
      "90<class 'list'>\n",
      "90<class 'list'>\n"
     ]
    }
   ],
   "source": [
    "print(f\"{len(img_list)}{type(img_list)}\")\n",
    "print(f\"{len(title_list)}{type(title_list)}\")\n",
    "print(f\"{len(tomato_ratio_list)}{type(tomato_ratio_list)}\")\n",
    "print(f\"{len(popcorn_ratio_list)}{type(popcorn_ratio_list)}\")"
   ]
  },
  {
   "cell_type": "code",
   "execution_count": 31,
   "id": "881ea989",
   "metadata": {},
   "outputs": [],
   "source": [
    "df = pd.DataFrame(data={\"img\":img_list, \"title\": title_list, \"tomato_ratio\":tomato_ratio_list, \"popcorn_ratio\":popcorn_ratio_list })"
   ]
  },
  {
   "cell_type": "code",
   "execution_count": 33,
   "id": "d69e223f",
   "metadata": {},
   "outputs": [],
   "source": [
    "df.to_excel(\"C:\\\\Users\\\\EXC\\\\Desktop\\\\토마토크롤링.xlsx\", index = False, header=False)"
   ]
  }
 ],
 "metadata": {
  "kernelspec": {
   "display_name": "Python 3 (ipykernel)",
   "language": "python",
   "name": "python3"
  },
  "language_info": {
   "codemirror_mode": {
    "name": "ipython",
    "version": 3
   },
   "file_extension": ".py",
   "mimetype": "text/x-python",
   "name": "python",
   "nbconvert_exporter": "python",
   "pygments_lexer": "ipython3",
   "version": "3.9.12"
  }
 },
 "nbformat": 4,
 "nbformat_minor": 5
}
