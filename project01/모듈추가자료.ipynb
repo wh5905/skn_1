{
 "cells": [
  {
   "cell_type": "markdown",
   "metadata": {},
   "source": [
    "# 모듈 ── 코드를 기술한 .py 파일"
   ]
  },
  {
   "cell_type": "markdown",
   "metadata": {},
   "source": [
    "## 모듈 작성\n",
    "\n",
    "모듈 => .py\n",
    "\n",
    "패키지 => .py 모음\n",
    "\n",
    "<!-- 라이브러리\n",
    "\n",
    "프레임워크 -->"
   ]
  },
  {
   "cell_type": "raw",
   "metadata": {},
   "source": [
    "샘플 코드에서는 최종 파일만 배포합니다"
   ]
  },
  {
   "cell_type": "code",
   "execution_count": null,
   "metadata": {},
   "outputs": [],
   "source": [
    "import base64\n",
    "\n",
    "\n",
    "def str_to_base64(x):\n",
    "    \"\"\"문자열을 base64 표현으로 변환함\n",
    "\n",
    "    b64encode()는 bytes-like object을 인수로 받으므로\n",
    "    문자열은 encode()로 bytes 타입으로 변환해 전달함\n",
    "    \"\"\"\n",
    "    return base64.b64encode(x.encode('utf-8'))"
   ]
  },
  {
   "cell_type": "code",
   "execution_count": null,
   "metadata": {},
   "outputs": [],
   "source": [
    "str_to_base64('hello world') # b'aGVsbG8gd29ybGQ='"
   ]
  },
  {
   "cell_type": "markdown",
   "metadata": {},
   "source": [
    "## 모듈 임포트"
   ]
  },
  {
   "cell_type": "code",
   "execution_count": null,
   "metadata": {},
   "outputs": [],
   "source": [
    "import os\n",
    "\n",
    "os.getcwd() # 현재 작업 디렉토리를 반환함\n",
    "\n",
    "# 'c:\\\\Users\\\\USER\\\\Desktop\\\\workspace01\\\\skn_1\\\\project01'"
   ]
  },
  {
   "cell_type": "code",
   "execution_count": null,
   "metadata": {},
   "outputs": [],
   "source": [
    "# import encoder  # 모듈 임포트\n",
    "\n",
    "from test1.test import 함수, 클래스\n",
    "\n",
    "함수(\"ㅁㄴㅇ\")\n",
    "클래스인스턴스 = 클래스()\n",
    "클래스인스턴스.메서드()\n",
    "#__init__.py 파일이 없으면 모듈로 인식되지 않음"
   ]
  },
  {
   "cell_type": "code",
   "execution_count": null,
   "metadata": {},
   "outputs": [],
   "source": [
    "# 변수 encoder는 module 클래스의 인스턴스\n",
    "type(encoder)"
   ]
  },
  {
   "cell_type": "code",
   "execution_count": null,
   "metadata": {},
   "outputs": [],
   "source": [
    "# encoder 모듈의 최상위 레벨 객체를 확인할 수 있음\n",
    "dir(encoder)\n",
    "dir(함수)\n",
    "dir(클래스) "
   ]
  },
  {
   "cell_type": "code",
   "execution_count": null,
   "metadata": {},
   "outputs": [],
   "source": [
    "# 모듈 안에서 정의된 함수 호출\n",
    "encoder.str_to_base64('python')\n",
    "\n"
   ]
  },
  {
   "cell_type": "markdown",
   "metadata": {},
   "source": [
    "## python3 명령어로 직접 실행하기"
   ]
  },
  {
   "cell_type": "raw",
   "metadata": {},
   "source": [
    "(주: encoder.py)\n",
    "import base64\n",
    "\n",
    "\n",
    "def str_to_base64(x):\n",
    "    \"\"\"문자열을 base64 표현으로 변환함\n",
    "\n",
    "    b64encode()는 bytes-like object을 인수로 받으므로\n",
    "    문자열은 encode()로 bytes 타입으로 변환해 전달함\n",
    "    \"\"\"\n",
    "    return base64.b64encode(x.encode('utf-8'))\n",
    "\n",
    "\n",
    "# b'cHl0aG9u'\n",
    "# $ python3 encoder.py book\n",
    "# b'Ym9vaw=='4.b64encode(x.encode('utf-8'))\n",
    "print(str_to_base64('python'))"
   ]
  },
  {
   "cell_type": "raw",
   "metadata": {},
   "source": [
    "$ python3 encoder.py\n",
    "b'cHl0aG9u'"
   ]
  },
  {
   "cell_type": "markdown",
   "metadata": {},
   "source": [
    "### 인수 얻기"
   ]
  },
  {
   "cell_type": "raw",
   "metadata": {},
   "source": [
    "(주: encoder.py)\n",
    "import base64\n",
    "import sys\n",
    "\n",
    "\n",
    "def str_to_base64(x):\n",
    "    \"\"\"문자열을 base64 표현으로 변환함\n",
    "\n",
    "    b64encode()는 bytes-like object을 인수로 받으므로\n",
    "    문자열은 encode()로 bytes 타입으로 변환해 전달함\n",
    "    \"\"\"\n",
    "    return base64.b64encode(x.encode('utf-8'))\n",
    "\n",
    "\n",
    "target = sys.argv[1]\n",
    "print(str_to_base64(target))"
   ]
  },
  {
   "cell_type": "raw",
   "metadata": {},
   "source": [
    "$ python3 encoder.py python\n",
    "b'cHl0aG9u'\n",
    "$ python3 encoder.py book\n",
    "b'Ym9vaw=='"
   ]
  },
  {
   "cell_type": "raw",
   "metadata": {},
   "source": [
    "Notebook 환경에서는 다음 결과가 달라집니다."
   ]
  },
  {
   "cell_type": "raw",
   "metadata": {},
   "source": [
    ">>> import encoder\n",
    "Traceback (most recent call last):\n",
    "  File \"<stdin>\", line 1, in <module>\n",
    "  File \"/Users/.../encoder.py\", line 9, in <module>\n",
    "    target = sys.argv[1]\n",
    "IndexError: list index out of range"
   ]
  },
  {
   "cell_type": "markdown",
   "metadata": {},
   "source": [
    "### 직접 실행할 때만 동작하는 코드\n",
    "\n",
    "<!-- if __name__ = \"__main__\" -->\n",
    "<!-- 간접 실행 import, from0 -->"
   ]
  },
  {
   "cell_type": "raw",
   "metadata": {},
   "source": [
    "(주: encoder.py)\n",
    "import base64\n",
    "import sys\n",
    "\n",
    "\n",
    "def str_to_base64(x):\n",
    "    \"\"\"문자열을 base64 표현으로 변환함\n",
    "\n",
    "    b64encode()는 bytes-like object을 인수로 받으므로\n",
    "    문자열은 encode()로 bytes 타입으로 변환해 전달함\n",
    "    \"\"\"\n",
    "    return base64.b64encode(x.encode('utf-8'))\n",
    "\n",
    "\n",
    "def main():\n",
    "    target = sys.argv[1]\n",
    "    print(str_to_base64(target))\n",
    "\n",
    "\n",
    "if __name__ == '__main__':\n",
    "    main()"
   ]
  },
  {
   "cell_type": "code",
   "execution_count": null,
   "metadata": {},
   "outputs": [],
   "source": [
    "!python encoder.py python"
   ]
  },
  {
   "cell_type": "code",
   "execution_count": null,
   "metadata": {},
   "outputs": [],
   "source": [
    "import encoder\n",
    "encoder.str_to_base64('python')"
   ]
  },
  {
   "cell_type": "markdown",
   "metadata": {},
   "source": [
    "### if \\_\\_name\\_\\_ == '\\_\\_main\\_\\_': 블록의 의미"
   ]
  },
  {
   "cell_type": "markdown",
   "metadata": {},
   "source": [
    "### 변수 \\_\\_name\\_\\_에 저장된 값"
   ]
  },
  {
   "cell_type": "code",
   "execution_count": null,
   "metadata": {},
   "outputs": [],
   "source": [
    "# 대화형 모드에서도 정의되어 있으며, 값은 __main__\n",
    "__name__"
   ]
  },
  {
   "cell_type": "code",
   "execution_count": null,
   "metadata": {},
   "outputs": [],
   "source": [
    "# 임포트한 모듈에서의 값은 모듈 이름이 됨\n",
    "import encoder\n",
    "encoder.__name__"
   ]
  },
  {
   "cell_type": "markdown",
   "metadata": {},
   "source": [
    "# 패키지 ── 모듈의 집합"
   ]
  },
  {
   "cell_type": "markdown",
   "metadata": {},
   "source": [
    "## 패키지 작성"
   ]
  },
  {
   "cell_type": "raw",
   "metadata": {},
   "source": [
    "$ mkdir b64"
   ]
  },
  {
   "cell_type": "raw",
   "metadata": {
    "vscode": {
     "languageId": "raw"
    }
   },
   "source": [
    "# 빈 __init__.py 작성\n",
    "# Windows에서는 type nul > b64/__init__.py\n",
    "$ touch b64/__init__.py"
   ]
  },
  {
   "cell_type": "code",
   "execution_count": null,
   "metadata": {},
   "outputs": [],
   "source": [
    "import b64  # 패키지 임포트\n",
    "type(b64)"
   ]
  },
  {
   "cell_type": "code",
   "execution_count": null,
   "metadata": {},
   "outputs": [],
   "source": [
    "# dir(encoder)의 결과에는 없었던 __path__를 확인할 수 있음\n",
    "dir(b64)"
   ]
  },
  {
   "cell_type": "code",
   "execution_count": null,
   "metadata": {},
   "outputs": [],
   "source": [
    "b64.__path__"
   ]
  },
  {
   "cell_type": "raw",
   "metadata": {},
   "source": [
    "$ mv encoder.py b64"
   ]
  },
  {
   "cell_type": "raw",
   "metadata": {},
   "source": [
    "(注:b64/decoder.py)\n",
    "import base64\n",
    "\n",
    "\n",
    "def base64_to_str(x):\n",
    "    \"\"\"base64 표현을 문자열로 변환함\n",
    "\n",
    "    b64decode()의 반환값은 bytes 타입이므로\n",
    "    decode()로 문자열로 바꾼 뒤 변환함\n",
    "    \"\"\"\n",
    "    return base64.b64decode(x).decode('utf-8')"
   ]
  },
  {
   "cell_type": "markdown",
   "metadata": {},
   "source": [
    "## 패키지 안의 모듈 임포트"
   ]
  },
  {
   "cell_type": "markdown",
   "metadata": {},
   "source": [
    "인코딩 > 직렬화 시리얼라이즈(문자열화)\n",
    "\"1\n",
    "디코딩 > 역직렬화 파이썬 객체로 이용가능\n",
    "\n",
    "파이썬객체(dic) json문자열화\n",
    "\n",
    "{\n",
    "    \"id\": 1,\n",
    "    'name': '홍길동'\n",
    "}\n",
    "\n",
    "=> {\"id\":\"1\", \"name\":\"홍길동\"}\n",
    "\n",
    "=> 파이썬객체화 (디코딩)\n"
   ]
  },
  {
   "cell_type": "code",
   "execution_count": null,
   "metadata": {},
   "outputs": [],
   "source": [
    "from b64 import encoder, decoder"
   ]
  },
  {
   "cell_type": "code",
   "execution_count": null,
   "metadata": {},
   "outputs": [],
   "source": [
    "# 문자열의 base64 형식 표현\n",
    "encoder.str_to_base64('python')"
   ]
  },
  {
   "cell_type": "code",
   "execution_count": null,
   "metadata": {},
   "outputs": [],
   "source": [
    "# base64 형식 표현의 원래 문자열\n",
    "# 인수는 bytes 타입이므로 앞에 b를 붙임\n",
    "decoder.base64_to_str(b'cHl0aG9u')"
   ]
  },
  {
   "cell_type": "markdown",
   "metadata": {},
   "source": [
    "### \\_\\_init\\_\\_.py ── 패키지 초기화 수행"
   ]
  },
  {
   "cell_type": "code",
   "execution_count": null,
   "metadata": {},
   "outputs": [],
   "source": [
    "# (주:/b64/__init__.py)\n",
    "print(f'init: {__name__}')"
   ]
  },
  {
   "cell_type": "raw",
   "metadata": {
    "vscode": {
     "languageId": "raw"
    }
   },
   "source": [
    "from b64 import encoder, decoder\n",
    "init: b64  # b64/__init__.py가 실행됨"
   ]
  },
  {
   "cell_type": "markdown",
   "metadata": {},
   "source": [
    "### \\_\\_init\\_\\_.py의 편리한 사용법"
   ]
  },
  {
   "cell_type": "raw",
   "metadata": {
    "vscode": {
     "languageId": "raw"
    }
   },
   "source": [
    ">>> import b64\n",
    ">>> b64.str_to_base64('ham')  # 지금은 에러\n",
    ">>> b64.base64_to_str(b'aGFt')  # 지금은 에러"
   ]
  },
  {
   "cell_type": "raw",
   "metadata": {
    "vscode": {
     "languageId": "raw"
    }
   },
   "source": [
    ">>> import b64\n",
    ">>> dir(b64)  # str_to_base64와 base64_to_str은 아직 없음\n",
    "['__builtins__', ... '__name__', '__package__', '__path__', '__spec__']"
   ]
  },
  {
   "cell_type": "raw",
   "metadata": {},
   "source": [
    "(주:b64/__init__.py)\n",
    "from .encoder import str_to_base64\n",
    "from .decoder import base64_to_str"
   ]
  },
  {
   "cell_type": "code",
   "execution_count": null,
   "metadata": {},
   "outputs": [],
   "source": [
    "import b64"
   ]
  },
  {
   "cell_type": "code",
   "execution_count": null,
   "metadata": {},
   "outputs": [],
   "source": [
    "# str_to_base64와 base64_to_str를 확인할 수 있음\n",
    "dir(b64)"
   ]
  },
  {
   "cell_type": "code",
   "execution_count": null,
   "metadata": {},
   "outputs": [],
   "source": [
    "# b64의 속성으로 참조\n",
    "b64.str_to_base64('python')"
   ]
  },
  {
   "cell_type": "code",
   "execution_count": null,
   "metadata": {},
   "outputs": [],
   "source": [
    "b64.base64_to_str(b'cHl0aG9u')"
   ]
  },
  {
   "cell_type": "markdown",
   "metadata": {},
   "source": [
    "## import 문 비교"
   ]
  },
  {
   "cell_type": "markdown",
   "metadata": {},
   "source": [
    "### import 문만 이용한 임포트"
   ]
  },
  {
   "cell_type": "code",
   "execution_count": null,
   "metadata": {},
   "outputs": [],
   "source": [
    "# 패키지(모듈) 임포트\n",
    "import b64"
   ]
  },
  {
   "cell_type": "code",
   "execution_count": null,
   "metadata": {},
   "outputs": [],
   "source": [
    "# 최상위 레벨 객체 참조\n",
    "b64.str_to_base64('python')"
   ]
  },
  {
   "cell_type": "markdown",
   "metadata": {},
   "source": [
    "### from 절을 사용한 특정 속성 임포트"
   ]
  },
  {
   "cell_type": "code",
   "execution_count": null,
   "metadata": {},
   "outputs": [],
   "source": [
    "# 모듈 속성을 직접 임포트\n",
    "from b64 import str_to_base64\n",
    "str_to_base64('python')"
   ]
  },
  {
   "cell_type": "code",
   "execution_count": null,
   "metadata": {},
   "outputs": [],
   "source": [
    "# 여러 속성 동시 임포트\n",
    "from b64.encoder import str_to_base64\n",
    "from b64.decoder import  base64_to_str"
   ]
  },
  {
   "cell_type": "code",
   "execution_count": null,
   "metadata": {},
   "outputs": [],
   "source": [
    "# 위와 동일함\n",
    "from b64.encoder import (\n",
    "    str_to_base64,\n",
    "    \n",
    ")\n",
    "\n",
    "from b64.decoder import (\n",
    "    base64_to_str\n",
    "   \n",
    ")"
   ]
  },
  {
   "cell_type": "code",
   "execution_count": null,
   "metadata": {},
   "outputs": [],
   "source": [
    "# 속성을 재귀적으로 지정해 임포트\n",
    "from b64.encoder import str_to_base64\n",
    "str_to_base64('python')"
   ]
  },
  {
   "cell_type": "markdown",
   "metadata": {},
   "source": [
    "### .을 이용한 상태 임포트"
   ]
  },
  {
   "cell_type": "code",
   "execution_count": null,
   "metadata": {},
   "outputs": [],
   "source": [
    "!cat b64/__init__.py"
   ]
  },
  {
   "cell_type": "markdown",
   "metadata": {},
   "source": [
    "### 와일드카드를 이용해 여러 속성의 일괄 임포트"
   ]
  },
  {
   "cell_type": "raw",
   "metadata": {},
   "source": [
    ">>> dir()  # 임포트 전 상태\n",
    "['__annotations__', ... '__package__', '__spec__']"
   ]
  },
  {
   "cell_type": "raw",
   "metadata": {},
   "source": [
    ">>> from b64.decoder import *\n",
    ">>> dir()  # base64_to_str 이외의 base64도 포함됨\n",
    "['__annotations__', ... '__package__', '__spec__', 'base64', 'base64_to_str']"
   ]
  },
  {
   "cell_type": "code",
   "execution_count": null,
   "metadata": {},
   "outputs": [],
   "source": [
    " # __all__로 지정한 이름을 일괄 임포트\n",
    "from b64.decoder import *\n",
    "dir()\n",
    "# ['__annotations__',  '__package__', '__spec__', 'base64_to_str']"
   ]
  },
  {
   "cell_type": "raw",
   "metadata": {},
   "source": [
    "(주:b64/encoder.py)\n",
    "__all__ = ['str_to_base64']"
   ]
  },
  {
   "cell_type": "code",
   "execution_count": null,
   "metadata": {},
   "outputs": [],
   "source": [
    "!cat b64/__init__.py"
   ]
  },
  {
   "cell_type": "code",
   "execution_count": null,
   "metadata": {},
   "outputs": [],
   "source": [
    "import b64\n",
    "dir(b64)"
   ]
  },
  {
   "cell_type": "markdown",
   "metadata": {},
   "source": [
    "## as 절을 사용한 별명 부여"
   ]
  },
  {
   "cell_type": "code",
   "execution_count": null,
   "metadata": {},
   "outputs": [],
   "source": [
    "open  # 내장 함수 open"
   ]
  },
  {
   "cell_type": "code",
   "execution_count": null,
   "metadata": {},
   "outputs": [],
   "source": [
    "from gzip import open  # gzip의 open을 임포트\n",
    "open  # open()은 gzip.open()으로 지정되어 있음"
   ]
  },
  {
   "cell_type": "raw",
   "metadata": {},
   "source": [
    "open을 빌트인 함수로 되돌리기 위해 대화형 모드를 다시 시작해 주십시오.\n",
    "Notebook에서는 메뉴의 Kernal > Restart Kernel도 사용할 수 있습니다."
   ]
  },
  {
   "cell_type": "raw",
   "metadata": {},
   "source": [
    "open  # 내장 함수 open"
   ]
  },
  {
   "cell_type": "code",
   "execution_count": null,
   "metadata": {},
   "outputs": [],
   "source": [
    "# gzip의 open을 gzip_open으로서 임포트\n",
    "from gzip import open as gzip_open\n",
    "gzip_open  # gzip의open"
   ]
  },
  {
   "cell_type": "code",
   "execution_count": null,
   "metadata": {},
   "outputs": [],
   "source": [
    "import gzip\n",
    "print(type(gzip.open(r\"C:\\Users\\USER\\Desktop\\workspace01\\skn_1\\project01\\b64\\decoder.py\"))) \n",
    "\n",
    "def open():\n",
    "    print('내가만든함수')\n",
    "\n",
    "print(type(open()))"
   ]
  },
  {
   "cell_type": "raw",
   "metadata": {},
   "source": [
    "open  # 내장 함수 open을 계속 이용할 수 있음"
   ]
  },
  {
   "cell_type": "markdown",
   "metadata": {},
   "source": [
    "# 임포트의 구조"
   ]
  },
  {
   "cell_type": "markdown",
   "metadata": {},
   "source": [
    "## 모듈 검색 흐름"
   ]
  },
  {
   "cell_type": "markdown",
   "metadata": {},
   "source": [
    "## sys.path ── 모듈 검색 경로"
   ]
  },
  {
   "cell_type": "raw",
   "metadata": {},
   "source": [
    "$ docker run -it --rm python:3.8.1 python3\n",
    ">>> import sys\n",
    ">>> sys.path  # 맨 앞은 빈 문자\n",
    "['', '/usr/local/lib/python38.zip', '/usr/local/lib/python3.8', '/usr/local/lib/python3.8/lib-dynload', '/usr/local/lib/python3.8/site-packages']"
   ]
  },
  {
   "cell_type": "code",
   "execution_count": null,
   "metadata": {},
   "outputs": [],
   "source": [
    "import sys\n",
    "\n",
    "sys.path"
   ]
  },
  {
   "cell_type": "code",
   "execution_count": null,
   "metadata": {},
   "outputs": [],
   "source": [
    "!type syspath.py"
   ]
  },
  {
   "cell_type": "code",
   "execution_count": null,
   "metadata": {},
   "outputs": [],
   "source": [
    "!docker run -it --rm -v $(pwd):/usr/src/app -w /usr/src/app python:3.12.3 python syspath.py"
   ]
  },
  {
   "cell_type": "markdown",
   "metadata": {},
   "source": [
    "### 검색 경로 우선 순위"
   ]
  },
  {
   "cell_type": "raw",
   "metadata": {
    "vscode": {
     "languageId": "raw"
    }
   },
   "source": [
    "우선순위 __mro__\n",
    "(주:sys.py)\n",
    "print('imported my sys.py')"
   ]
  },
  {
   "cell_type": "raw",
   "metadata": {},
   "source": [
    "(주:base64.py)\n",
    "print('imported my base64.py')"
   ]
  },
  {
   "cell_type": "raw",
   "metadata": {},
   "source": [
    "$ docker run -it --rm -v $(pwd):/usr/src/app -w /usr/src/app python:3.8.1 python3\n",
    "\n",
    "# 빌트인 sys 모듈이 임포트 됨\n",
    ">>> import sys\n",
    "\n",
    "# 사용자 정의 base64 모듈이 임포트 됨\n",
    ">>> import base64\n",
    "imported my base64.py"
   ]
  },
  {
   "cell_type": "markdown",
   "metadata": {},
   "source": [
    "## PYTHONPATH ── sys.path에 검색 경로를 추가\n",
    "\n",
    "암묵적 \n",
    "list.append() 추가 가능"
   ]
  },
  {
   "cell_type": "code",
   "execution_count": null,
   "metadata": {},
   "outputs": [],
   "source": [
    "# 옵션으로 현재 디렉터리와 PYTHONPATH를 지정해서 실행\n",
    "!docker run -it --rm -v $(pwd):/usr/src/app -w /usr/src/app -e PYTHONPATH=/usr/bin:/bin python:3.8.1 python3 syspath.py"
   ]
  },
  {
   "cell_type": "markdown",
   "metadata": {},
   "source": [
    "# 이름 공간과 변수의 스코프\n",
    "\n",
    "함수명 변수명..."
   ]
  },
  {
   "cell_type": "markdown",
   "metadata": {},
   "source": [
    "## 이름 공간 ── 이름과 객체의 매핑"
   ]
  },
  {
   "cell_type": "code",
   "execution_count": null,
   "metadata": {},
   "outputs": [],
   "source": [
    "import os\n",
    "os.open"
   ]
  },
  {
   "cell_type": "code",
   "execution_count": null,
   "metadata": {},
   "outputs": [],
   "source": [
    "# 같은 open이라도 gzip.open과 os.open은 다른 객체임\n",
    "import gzip\n",
    "gzip.open"
   ]
  },
  {
   "cell_type": "markdown",
   "metadata": {},
   "source": [
    "### 이름 공간 활용"
   ]
  },
  {
   "cell_type": "markdown",
   "metadata": {},
   "source": [
    "## 스코프 ── 직접 엑세스 가능한 영역"
   ]
  },
  {
   "cell_type": "markdown",
   "metadata": {},
   "source": [
    "### 로컬 스코프 ── 함수 안에 국한된 스코프\n",
    "\n",
    "*계층구조 "
   ]
  },
  {
   "cell_type": "code",
   "execution_count": null,
   "metadata": {},
   "outputs": [],
   "source": [
    "def f():\n",
    "    value = 'f_function'\n",
    "    print(value)"
   ]
  },
  {
   "cell_type": "code",
   "execution_count": null,
   "metadata": {},
   "outputs": [],
   "source": [
    "def g():\n",
    "    value = 'g_function'\n",
    "    print(value)"
   ]
  },
  {
   "cell_type": "code",
   "execution_count": null,
   "metadata": {},
   "outputs": [],
   "source": [
    "# 함수 안에서는 value에 접근할 수 있음\n",
    "f()\n",
    "for i in range(0,3):\n",
    "    for j in range(0,3):\n",
    "        print(j)\n",
    "    print(i)    "
   ]
  },
  {
   "cell_type": "code",
   "execution_count": null,
   "metadata": {},
   "outputs": [],
   "source": [
    "# 함수 f에서 정의된 value와 \n",
    "# 함수 g에서 정의된 value는 다른 객체\n",
    "g()"
   ]
  },
  {
   "cell_type": "code",
   "execution_count": null,
   "metadata": {
    "tags": [
     "raises-exception"
    ]
   },
   "outputs": [],
   "source": [
    "# 함수 밖에서 value에는 접근할 수 없음\n",
    "print(value)"
   ]
  },
  {
   "cell_type": "code",
   "execution_count": null,
   "metadata": {},
   "outputs": [],
   "source": [
    "# 변수 value는 리스트 컴프리헨션으로 만들어진 스코프를 가지는 로컬 변수\n",
    "[value for value in range(1)]\n",
    "[x for x in range(0,5)]\n"
   ]
  },
  {
   "cell_type": "code",
   "execution_count": null,
   "metadata": {
    "tags": [
     "raises-exception"
    ]
   },
   "outputs": [],
   "source": [
    "# 리스트 컴프리헨션 바깥에서는 value를 참조할 수 없음\n",
    "value"
   ]
  },
  {
   "cell_type": "code",
   "execution_count": null,
   "metadata": {},
   "outputs": [],
   "source": [
    "def f(x):\n",
    "    # 현재 로컬 스코프 내용을 표시\n",
    "    print(locals())\n",
    "    value = 'book'\n",
    "    # 변수 value 정의 후 로컬 스코프 내용 표시\n",
    "    print(locals())"
   ]
  },
  {
   "cell_type": "code",
   "execution_count": null,
   "metadata": {},
   "outputs": [],
   "source": [
    "f('python')"
   ]
  },
  {
   "cell_type": "code",
   "execution_count": null,
   "metadata": {},
   "outputs": [],
   "source": [
    "locals()\n",
    "# globals()"
   ]
  },
  {
   "cell_type": "code",
   "execution_count": null,
   "metadata": {},
   "outputs": [],
   "source": []
  },
  {
   "cell_type": "raw",
   "metadata": {
    "vscode": {
     "languageId": "raw"
    }
   },
   "source": [
    "# 모듈 최상위 레벨에서는\n",
    "# 글로벌 스코프와 일치\n",
    ">>> locals()\n",
    "{'__name__': '__main__', '__doc__': None, ... 'g': <function g at 0x105dc37b8>}"
   ]
  },
  {
   "cell_type": "markdown",
   "metadata": {},
   "source": [
    "### 전역 스코프 ── 모듈 최상위 레벨의 스코프"
   ]
  },
  {
   "cell_type": "code",
   "execution_count": null,
   "metadata": {},
   "outputs": [],
   "source": [
    "x = 'python'\n",
    "print(x)"
   ]
  },
  {
   "cell_type": "code",
   "execution_count": null,
   "metadata": {},
   "outputs": [],
   "source": [
    "# 전역 변수를 참조\n",
    "def f():\n",
    "    print(x)"
   ]
  },
  {
   "cell_type": "code",
   "execution_count": null,
   "metadata": {},
   "outputs": [],
   "source": [
    "f()"
   ]
  },
  {
   "cell_type": "code",
   "execution_count": null,
   "metadata": {},
   "outputs": [],
   "source": [
    "# 전역 변수의 업데이트가 아닌 로컬 변수 작성\n",
    "def g():\n",
    "    x = 'g_function'\n",
    "    print(x)"
   ]
  },
  {
   "cell_type": "code",
   "execution_count": null,
   "metadata": {},
   "outputs": [],
   "source": [
    "g()"
   ]
  },
  {
   "cell_type": "code",
   "execution_count": null,
   "metadata": {},
   "outputs": [],
   "source": [
    "print(x)  # 전역 변숫값은 그대로임"
   ]
  },
  {
   "cell_type": "code",
   "execution_count": null,
   "metadata": {},
   "outputs": [],
   "source": [
    "x = 'python'"
   ]
  },
  {
   "cell_type": "code",
   "execution_count": null,
   "metadata": {},
   "outputs": [],
   "source": [
    "def f():\n",
    "    # 전역 변수 참조\n",
    "    print(x)\n",
    "    # 전역 변수를 먼저 참조하면\n",
    "    # 같은 이름의 로컬 변수는 정의할 수 없음\n",
    "    x = 'f_function'\n",
    "    print(x)"
   ]
  },
  {
   "cell_type": "code",
   "execution_count": null,
   "metadata": {
    "tags": [
     "raises-exception"
    ]
   },
   "outputs": [],
   "source": [
    "f()"
   ]
  },
  {
   "cell_type": "code",
   "execution_count": null,
   "metadata": {},
   "outputs": [],
   "source": [
    "x = 'python'"
   ]
  },
  {
   "cell_type": "code",
   "execution_count": 1,
   "metadata": {},
   "outputs": [],
   "source": [
    "def f():\n",
    "    global x  # 전역 변수임을 선언\n",
    "    x = 'book'\n",
    "    print(x)"
   ]
  },
  {
   "cell_type": "code",
   "execution_count": null,
   "metadata": {},
   "outputs": [],
   "source": [
    "f()"
   ]
  },
  {
   "cell_type": "code",
   "execution_count": null,
   "metadata": {},
   "outputs": [],
   "source": [
    "print(x)  # 전역 변수값이 업데이트 됨"
   ]
  },
  {
   "cell_type": "code",
   "execution_count": null,
   "metadata": {},
   "outputs": [],
   "source": [
    "x = [0, 1]"
   ]
  },
  {
   "cell_type": "code",
   "execution_count": null,
   "metadata": {},
   "outputs": [],
   "source": [
    "def f():\n",
    "    x[0] = 2"
   ]
  },
  {
   "cell_type": "code",
   "execution_count": null,
   "metadata": {},
   "outputs": [],
   "source": [
    "x"
   ]
  },
  {
   "cell_type": "code",
   "execution_count": null,
   "metadata": {},
   "outputs": [],
   "source": [
    "f()"
   ]
  },
  {
   "cell_type": "code",
   "execution_count": null,
   "metadata": {},
   "outputs": [],
   "source": [
    "x"
   ]
  },
  {
   "cell_type": "raw",
   "metadata": {},
   "source": [
    ">>> globals()  # 현재 전역 스코프 내용 표시\n",
    "{'__name__': '__main__', '__doc__': None, ... 'f': <function f at 0x104e7d378>}"
   ]
  },
  {
   "cell_type": "code",
   "execution_count": 2,
   "metadata": {},
   "outputs": [
    {
     "data": {
      "text/plain": [
       "{'__name__': '__main__',\n",
       " '__doc__': 'Automatically created module for IPython interactive environment',\n",
       " '__package__': None,\n",
       " '__loader__': None,\n",
       " '__spec__': None,\n",
       " '__builtin__': <module 'builtins' (built-in)>,\n",
       " '__builtins__': <module 'builtins' (built-in)>,\n",
       " '_ih': ['',\n",
       "  \"def f():\\n    global x  # 전역 변수임을 선언\\n    x = 'book'\\n    print(x)\",\n",
       "  'globals()'],\n",
       " '_oh': {},\n",
       " '_dh': [WindowsPath('c:/Users/USER/Desktop/workspace01/skn_1/project01')],\n",
       " 'In': ['',\n",
       "  \"def f():\\n    global x  # 전역 변수임을 선언\\n    x = 'book'\\n    print(x)\",\n",
       "  'globals()'],\n",
       " 'Out': {},\n",
       " 'get_ipython': <bound method InteractiveShell.get_ipython of <ipykernel.zmqshell.ZMQInteractiveShell object at 0x0000011A9D7060F0>>,\n",
       " 'exit': <IPython.core.autocall.ZMQExitAutocall at 0x11a9ea3f350>,\n",
       " 'quit': <IPython.core.autocall.ZMQExitAutocall at 0x11a9ea3f350>,\n",
       " 'open': <function _io.open(file, mode='r', buffering=-1, encoding=None, errors=None, newline=None, closefd=True, opener=None)>,\n",
       " '_': '',\n",
       " '__': '',\n",
       " '___': '',\n",
       " '__vsc_ipynb_file__': 'c:\\\\Users\\\\USER\\\\Desktop\\\\workspace01\\\\skn_1\\\\project01\\\\모듈추가자료.ipynb',\n",
       " '_i': \"def f():\\n    global x  # 전역 변수임을 선언\\n    x = 'book'\\n    print(x)\",\n",
       " '_ii': '',\n",
       " '_iii': '',\n",
       " '_i1': \"def f():\\n    global x  # 전역 변수임을 선언\\n    x = 'book'\\n    print(x)\",\n",
       " 'f': <function __main__.f()>,\n",
       " '_i2': 'globals()'}"
      ]
     },
     "execution_count": 2,
     "metadata": {},
     "output_type": "execute_result"
    }
   ],
   "source": [
    "globals()"
   ]
  },
  {
   "cell_type": "code",
   "execution_count": null,
   "metadata": {},
   "outputs": [],
   "source": [
    "def f():\n",
    "    print(globals())"
   ]
  },
  {
   "cell_type": "raw",
   "metadata": {},
   "source": [
    ">>> f()  # 함수 안에서도 같은 결과를 얻을 수 있음\n",
    "{'__name__': '__main__', '__doc__': None, ... 'f': <function f at 0x104e7d378>}"
   ]
  },
  {
   "cell_type": "markdown",
   "metadata": {},
   "source": [
    "### 빌트인 스코프 ── 내장 객체의 스코프"
   ]
  },
  {
   "cell_type": "code",
   "execution_count": 5,
   "metadata": {},
   "outputs": [
    {
     "data": {
      "text/plain": [
       "['ArithmeticError',\n",
       " 'AssertionError',\n",
       " 'AttributeError',\n",
       " 'BaseException',\n",
       " 'BaseExceptionGroup',\n",
       " 'BlockingIOError',\n",
       " 'BrokenPipeError',\n",
       " 'BufferError',\n",
       " 'BytesWarning',\n",
       " 'ChildProcessError',\n",
       " 'ConnectionAbortedError',\n",
       " 'ConnectionError',\n",
       " 'ConnectionRefusedError',\n",
       " 'ConnectionResetError',\n",
       " 'DeprecationWarning',\n",
       " 'EOFError',\n",
       " 'Ellipsis',\n",
       " 'EncodingWarning',\n",
       " 'EnvironmentError',\n",
       " 'Exception',\n",
       " 'ExceptionGroup',\n",
       " 'False',\n",
       " 'FileExistsError',\n",
       " 'FileNotFoundError',\n",
       " 'FloatingPointError',\n",
       " 'FutureWarning',\n",
       " 'GeneratorExit',\n",
       " 'IOError',\n",
       " 'ImportError',\n",
       " 'ImportWarning',\n",
       " 'IndentationError',\n",
       " 'IndexError',\n",
       " 'InterruptedError',\n",
       " 'IsADirectoryError',\n",
       " 'KeyError',\n",
       " 'KeyboardInterrupt',\n",
       " 'LookupError',\n",
       " 'MemoryError',\n",
       " 'ModuleNotFoundError',\n",
       " 'NameError',\n",
       " 'None',\n",
       " 'NotADirectoryError',\n",
       " 'NotImplemented',\n",
       " 'NotImplementedError',\n",
       " 'OSError',\n",
       " 'OverflowError',\n",
       " 'PendingDeprecationWarning',\n",
       " 'PermissionError',\n",
       " 'ProcessLookupError',\n",
       " 'RecursionError',\n",
       " 'ReferenceError',\n",
       " 'ResourceWarning',\n",
       " 'RuntimeError',\n",
       " 'RuntimeWarning',\n",
       " 'StopAsyncIteration',\n",
       " 'StopIteration',\n",
       " 'SyntaxError',\n",
       " 'SyntaxWarning',\n",
       " 'SystemError',\n",
       " 'SystemExit',\n",
       " 'TabError',\n",
       " 'TimeoutError',\n",
       " 'True',\n",
       " 'TypeError',\n",
       " 'UnboundLocalError',\n",
       " 'UnicodeDecodeError',\n",
       " 'UnicodeEncodeError',\n",
       " 'UnicodeError',\n",
       " 'UnicodeTranslateError',\n",
       " 'UnicodeWarning',\n",
       " 'UserWarning',\n",
       " 'ValueError',\n",
       " 'Warning',\n",
       " 'WindowsError',\n",
       " 'ZeroDivisionError',\n",
       " '__IPYTHON__',\n",
       " '__build_class__',\n",
       " '__debug__',\n",
       " '__doc__',\n",
       " '__import__',\n",
       " '__loader__',\n",
       " '__name__',\n",
       " '__package__',\n",
       " '__spec__',\n",
       " 'abs',\n",
       " 'aiter',\n",
       " 'all',\n",
       " 'anext',\n",
       " 'any',\n",
       " 'ascii',\n",
       " 'bin',\n",
       " 'bool',\n",
       " 'breakpoint',\n",
       " 'bytearray',\n",
       " 'bytes',\n",
       " 'callable',\n",
       " 'chr',\n",
       " 'classmethod',\n",
       " 'compile',\n",
       " 'complex',\n",
       " 'copyright',\n",
       " 'credits',\n",
       " 'delattr',\n",
       " 'dict',\n",
       " 'dir',\n",
       " 'display',\n",
       " 'divmod',\n",
       " 'enumerate',\n",
       " 'eval',\n",
       " 'exec',\n",
       " 'execfile',\n",
       " 'filter',\n",
       " 'float',\n",
       " 'format',\n",
       " 'frozenset',\n",
       " 'get_ipython',\n",
       " 'getattr',\n",
       " 'globals',\n",
       " 'hasattr',\n",
       " 'hash',\n",
       " 'help',\n",
       " 'hex',\n",
       " 'id',\n",
       " 'input',\n",
       " 'int',\n",
       " 'isinstance',\n",
       " 'issubclass',\n",
       " 'iter',\n",
       " 'len',\n",
       " 'license',\n",
       " 'list',\n",
       " 'locals',\n",
       " 'map',\n",
       " 'max',\n",
       " 'memoryview',\n",
       " 'min',\n",
       " 'next',\n",
       " 'object',\n",
       " 'oct',\n",
       " 'open',\n",
       " 'ord',\n",
       " 'pow',\n",
       " 'print',\n",
       " 'property',\n",
       " 'range',\n",
       " 'repr',\n",
       " 'reversed',\n",
       " 'round',\n",
       " 'runfile',\n",
       " 'set',\n",
       " 'setattr',\n",
       " 'slice',\n",
       " 'sorted',\n",
       " 'staticmethod',\n",
       " 'str',\n",
       " 'sum',\n",
       " 'super',\n",
       " 'tuple',\n",
       " 'type',\n",
       " 'vars',\n",
       " 'zip']"
      ]
     },
     "execution_count": 5,
     "metadata": {},
     "output_type": "execute_result"
    }
   ],
   "source": [
    "dir(__builtins__)\n"
   ]
  },
  {
   "cell_type": "markdown",
   "metadata": {},
   "source": [
    "### 인클로징 스코프 ── 현재 로컬 스코프의 1계층 바깥의 스코프"
   ]
  },
  {
   "cell_type": "code",
   "execution_count": 8,
   "metadata": {},
   "outputs": [],
   "source": [
    "def f():\n",
    "    x = 'x'\n",
    "    def g():\n",
    "        # x=4\n",
    "        print(x)  # 인클로징 스코프 안의 변수 x를 참조\n",
    "    g()"
   ]
  },
  {
   "cell_type": "code",
   "execution_count": 9,
   "metadata": {},
   "outputs": [
    {
     "name": "stdout",
     "output_type": "stream",
     "text": [
      "4\n"
     ]
    }
   ],
   "source": [
    "f()"
   ]
  },
  {
   "cell_type": "code",
   "execution_count": 10,
   "metadata": {},
   "outputs": [],
   "source": [
    "def f():\n",
    "    x = 'x'\n",
    "    def g():\n",
    "        nonlocal x  # x라 로컬 변수가 아님을 선언\n",
    "        x = 1\n",
    "        print(x)\n",
    "    g()\n",
    "    print(x)"
   ]
  },
  {
   "cell_type": "code",
   "execution_count": 11,
   "metadata": {},
   "outputs": [
    {
     "name": "stdout",
     "output_type": "stream",
     "text": [
      "1\n",
      "1\n"
     ]
    }
   ],
   "source": [
    "f()"
   ]
  },
  {
   "cell_type": "code",
   "execution_count": 12,
   "metadata": {},
   "outputs": [],
   "source": [
    "def f():\n",
    "    x = 'x'\n",
    "    def g():\n",
    "        x = 1  # 로컬 변수로서 정의됨\n",
    "        print(x)\n",
    "    g()\n",
    "    print(x)  # 원래 x의 값은 변하지 않음"
   ]
  },
  {
   "cell_type": "code",
   "execution_count": 13,
   "metadata": {},
   "outputs": [
    {
     "name": "stdout",
     "output_type": "stream",
     "text": [
      "1\n",
      "x\n"
     ]
    }
   ],
   "source": [
    "f()"
   ]
  },
  {
   "cell_type": "markdown",
   "metadata": {},
   "source": [
    "#### 클로저 ── 작성 시의 환경을 기억하는 함수 객체"
   ]
  },
  {
   "cell_type": "code",
   "execution_count": 14,
   "metadata": {},
   "outputs": [],
   "source": [
    "def counter():\n",
    "    count = 0\n",
    "    def _increment():\n",
    "        nonlocal count\n",
    "        count += 1\n",
    "        return count\n",
    "    return _increment"
   ]
  },
  {
   "cell_type": "code",
   "execution_count": 15,
   "metadata": {},
   "outputs": [
    {
     "data": {
      "text/plain": [
       "<function __main__.counter.<locals>._increment()>"
      ]
     },
     "execution_count": 15,
     "metadata": {},
     "output_type": "execute_result"
    }
   ],
   "source": [
    "# 카운터 작성\n",
    "counter1 = counter()\n",
    "counter1"
   ]
  },
  {
   "cell_type": "code",
   "execution_count": 19,
   "metadata": {},
   "outputs": [
    {
     "data": {
      "text/plain": [
       "4"
      ]
     },
     "execution_count": 19,
     "metadata": {},
     "output_type": "execute_result"
    }
   ],
   "source": [
    "# _increment의 바깥쪽에서 정의되어 있던\n",
    "# count의 참조를 계속 유지하고 있음\n",
    "counter1()"
   ]
  },
  {
   "cell_type": "code",
   "execution_count": 17,
   "metadata": {},
   "outputs": [
    {
     "data": {
      "text/plain": [
       "2"
      ]
     },
     "execution_count": 17,
     "metadata": {},
     "output_type": "execute_result"
    }
   ],
   "source": [
    "counter1()"
   ]
  },
  {
   "cell_type": "code",
   "execution_count": 36,
   "metadata": {},
   "outputs": [
    {
     "data": {
      "text/plain": [
       "1"
      ]
     },
     "execution_count": 36,
     "metadata": {},
     "output_type": "execute_result"
    }
   ],
   "source": [
    "# 다른 카운터 작성\n",
    "# counter1이 참조하고 있는 count에는 영향이 없음\n",
    "\n",
    "counter2 = counter()\n",
    "counter2()"
   ]
  },
  {
   "cell_type": "code",
   "execution_count": 35,
   "metadata": {},
   "outputs": [
    {
     "data": {
      "text/plain": [
       "11"
      ]
     },
     "execution_count": 35,
     "metadata": {},
     "output_type": "execute_result"
    }
   ],
   "source": [
    "counter1()"
   ]
  },
  {
   "cell_type": "markdown",
   "metadata": {},
   "source": [
    "# 정리"
   ]
  },
  {
   "cell_type": "markdown",
   "metadata": {},
   "source": []
  }
 ],
 "metadata": {
  "kernelspec": {
   "display_name": "Python 3",
   "language": "python",
   "name": "python3"
  },
  "language_info": {
   "codemirror_mode": {
    "name": "ipython",
    "version": 3
   },
   "file_extension": ".py",
   "mimetype": "text/x-python",
   "name": "python",
   "nbconvert_exporter": "python",
   "pygments_lexer": "ipython3",
   "version": "3.12.3"
  }
 },
 "nbformat": 4,
 "nbformat_minor": 4
}
