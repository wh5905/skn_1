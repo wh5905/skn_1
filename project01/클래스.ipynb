{
 "cells": [
  {
   "cell_type": "markdown",
   "metadata": {},
   "source": [
    "# 파이썬의 클래스 구조"
   ]
  },
  {
   "cell_type": "markdown",
   "metadata": {},
   "source": [
    "클래스\n",
    "객체지향 프로그래밍\n",
    "객체\n",
    "인스턴스\n",
    "\n",
    "\n",
    "객체를 클래스로 추상화\n",
    "클래스를 쓸때 인스터스화를 해야함\n",
    "Car()"
   ]
  },
  {
   "cell_type": "code",
   "execution_count": null,
   "metadata": {},
   "outputs": [],
   "source": [
    "def some_function():\n",
    "    print(\"==>\")\n",
    "\n",
    "class Car:\n",
    "\n",
    "    # 값\n",
    "    color = \"red\"\n",
    "    model = \"Toyota\"\n",
    "    def __init__(self, model, color):\n",
    "        self.model = model # 인스턴스 변수\n",
    "        self.color = color # 인스턴스 변수\n",
    "        \n",
    "    def 기능(cls): # 클래스 메소드\n",
    "        print(\"기능\")\n",
    "        \n",
    "    # 기능\n",
    "    def drive(self): # 인스턴스 메소드\n",
    "        print(f\"drive {self.model}\")\n",
    "    def stop(self):\n",
    "        print(\"stop\")\n",
    "    def park(self):\n",
    "        print(\"park\")\n",
    "\n",
    "    #스테틱메소드 > 인스턴스화 하지 않고도 사용 o\n",
    "    # Car.스테틱메소드명() = 함수 = 유틸리티성\n",
    "    @staticmethod\n",
    "    def 스테틱메소드():\n",
    "        print(\"스테틱메소드\")\n",
    "\n",
    "    # 클래스를 통해서 구체화된 객체가 인스터스\n",
    "    # self = 구체화된 인스턴스\n",
    "    pass\n",
    "\n",
    "\n",
    "# if __name__ == \"__main__\":\n",
    "\n",
    "Car.some_function = some_function\n",
    "# 재정의\n",
    "# Car.some_function()\n",
    "\n",
    "# 객체 = 클래스()\n",
    "car01 = Car(\"BMW\", \"blue\")\n",
    "print(car01.color)\n",
    "print(car01.drive())\n",
    "car02 = Car(\"Benz\", \"black\")\n",
    "print(car02.color)\n",
    "print(car02.stop())\n",
    "\n",
    "Car.스테틱메소드()\n",
    "\n",
    "# 값과 기능 사용가능\n",
    "car01.color\n",
    "# 객체들간의 상호작용으로 프로그램 만드는것\n",
    "\n",
    "class Robot:\n",
    "\n",
    "    pass\n",
    "\n"
   ]
  },
  {
   "cell_type": "markdown",
   "metadata": {},
   "source": [
    "## class 키워드를 사용한 클래스 정의"
   ]
  },
  {
   "cell_type": "code",
   "execution_count": null,
   "metadata": {},
   "outputs": [],
   "source": [
    "class Page:  # 클래스 정의\n",
    "    def __init__(self, num, content):\n",
    "        self.num = num  # 페이지 번호\n",
    "        self.content = content  # 페이지 내용\n",
    "    def output(self):\n",
    "        return f'{self.content}'"
   ]
  },
  {
   "cell_type": "code",
   "execution_count": null,
   "metadata": {},
   "outputs": [],
   "source": [
    "Page  # 클래스 객체 Page가 정의됨"
   ]
  },
  {
   "cell_type": "markdown",
   "metadata": {},
   "source": [
    "## 인스턴스 만들기"
   ]
  },
  {
   "cell_type": "code",
   "execution_count": null,
   "metadata": {},
   "outputs": [],
   "source": [
    "# 인스턴스화\n",
    "title_page = Page(0, 'Python Practice Book')"
   ]
  },
  {
   "cell_type": "code",
   "execution_count": null,
   "metadata": {},
   "outputs": [],
   "source": [
    "type(title_page)  # 인스턴스의 클래스를 확인함"
   ]
  },
  {
   "cell_type": "code",
   "execution_count": null,
   "metadata": {},
   "outputs": [],
   "source": [
    "# Page 클래스의 인스턴스인지 확인함\n",
    "isinstance(title_page, Page)"
   ]
  },
  {
   "cell_type": "code",
   "execution_count": null,
   "metadata": {},
   "outputs": [],
   "source": [
    "# 인스턴스가 가진 속성을 확인함\n",
    "dir(title_page)"
   ]
  },
  {
   "cell_type": "markdown",
   "metadata": {},
   "source": [
    "# 인스턴스 ── 클래스를 기반으로 만들어진 객체"
   ]
  },
  {
   "cell_type": "markdown",
   "metadata": {},
   "source": [
    "## 인스턴스 메서드 ── 인스턴스에 묶인 메서드"
   ]
  },
  {
   "cell_type": "code",
   "execution_count": null,
   "metadata": {},
   "outputs": [],
   "source": [
    "title_page.output()  # 인스턴스 메서드 호출"
   ]
  },
  {
   "cell_type": "markdown",
   "metadata": {},
   "source": [
    "#### 메서드 객채와 함수 객체"
   ]
  },
  {
   "cell_type": "code",
   "execution_count": null,
   "metadata": {},
   "outputs": [],
   "source": [
    "class Klass:\n",
    "    def some_method(self):  # 인스턴스 메서드 정의\n",
    "        print('method')"
   ]
  },
  {
   "cell_type": "code",
   "execution_count": null,
   "metadata": {},
   "outputs": [],
   "source": [
    "def some_function(self):  # 같은 인수의 함수 정의\n",
    "    print('function')"
   ]
  },
  {
   "cell_type": "code",
   "execution_count": null,
   "metadata": {},
   "outputs": [],
   "source": [
    "# 함수는 function 클래스의 인스턴스임\n",
    "type(some_function)"
   ]
  },
  {
   "cell_type": "code",
   "execution_count": null,
   "metadata": {},
   "outputs": [],
   "source": [
    "# 인스턴스 메서드도 function 클래스의 인스턴스\n",
    "type(Klass.some_method)"
   ]
  },
  {
   "cell_type": "code",
   "execution_count": null,
   "metadata": {},
   "outputs": [],
   "source": [
    "# 인스턴스를 통해 접근하면 method 클래스가 됨\n",
    "kls = Klass()\n",
    "type(kls.some_method)"
   ]
  },
  {
   "cell_type": "code",
   "execution_count": null,
   "metadata": {},
   "outputs": [],
   "source": [
    "# 클래스 객체의 속성에 함수를 추가\n",
    "Klass.some_function = some_function"
   ]
  },
  {
   "cell_type": "code",
   "execution_count": null,
   "metadata": {},
   "outputs": [],
   "source": [
    "# 인스턴스 메서드로 실행\n",
    "kls.some_function()"
   ]
  },
  {
   "cell_type": "markdown",
   "metadata": {},
   "source": [
    "## 인스턴스 변수 ── 인스턴스가 저장하는 변수"
   ]
  },
  {
   "cell_type": "markdown",
   "metadata": {},
   "source": [
    "-접근제한자 컨셉 \n",
    "-직접적으로 값을 변경못하게\n",
    "-메소드를 통해서 set get \n",
    "\n",
    "-접근제한자\n",
    "-public\n",
    "-default\n",
    "-protected\n",
    "-private\n",
    "\n",
    "필드 프라퍼티\n",
    "\n",
    "__ (변경x)\n"
   ]
  },
  {
   "cell_type": "code",
   "execution_count": null,
   "metadata": {},
   "outputs": [],
   "source": [
    "title_page.section = 0\n",
    "title_page.section"
   ]
  },
  {
   "cell_type": "code",
   "execution_count": null,
   "metadata": {
    "tags": [
     "raises-exception"
    ]
   },
   "outputs": [],
   "source": [
    "first_page = Page(1, 'first page')\n",
    "first_page.section"
   ]
  },
  {
   "cell_type": "markdown",
   "metadata": {},
   "source": [
    "## 인스턴스 초기화"
   ]
  },
  {
   "cell_type": "markdown",
   "metadata": {},
   "source": [
    "### \\_\\_init\\_\\_() ── 인스턴스 초기화를 수행하는 특수 메서드"
   ]
  },
  {
   "cell_type": "code",
   "execution_count": null,
   "metadata": {},
   "outputs": [],
   "source": [
    "# 클래스 정의 \n",
    "class Page:\n",
    "    def __init__(self, num, content, section=None):\n",
    "        self.num = num\n",
    "        self.content = content\n",
    "        self.section = section\n",
    "    def output(self):\n",
    "        return f'{self.content}'"
   ]
  },
  {
   "cell_type": "markdown",
   "metadata": {},
   "source": [
    "### 인수를 전달해 인스턴스화 하기"
   ]
  },
  {
   "cell_type": "code",
   "execution_count": null,
   "metadata": {},
   "outputs": [],
   "source": [
    "# 인스턴스 작성\n",
    "title_page = Page(0, 'Python Practice Book')"
   ]
  },
  {
   "cell_type": "code",
   "execution_count": null,
   "metadata": {},
   "outputs": [],
   "source": [
    "title_page.section  # section은 None"
   ]
  },
  {
   "cell_type": "code",
   "execution_count": null,
   "metadata": {},
   "outputs": [],
   "source": [
    "title_page.output()"
   ]
  },
  {
   "cell_type": "code",
   "execution_count": null,
   "metadata": {},
   "outputs": [],
   "source": [
    "# section을 지정해 다른 인스턴스를 작성\n",
    "first_page = Page(1, 'first page', 1)"
   ]
  },
  {
   "cell_type": "code",
   "execution_count": null,
   "metadata": {},
   "outputs": [],
   "source": [
    "first_page.section  # section이 지정되어 있음"
   ]
  },
  {
   "cell_type": "code",
   "execution_count": null,
   "metadata": {},
   "outputs": [],
   "source": [
    "first_page.output()"
   ]
  },
  {
   "cell_type": "markdown",
   "metadata": {},
   "source": [
    "### \\_\\_init\\_\\_()과 \\_\\_new\\_\\_()의 차이 ── 이니셜라이저와 컨스트럭터"
   ]
  },
  {
   "cell_type": "code",
   "execution_count": null,
   "metadata": {},
   "outputs": [],
   "source": [
    "class Klass:\n",
    "    def __new__(cls, *args):  # 컨스트럭터\n",
    "        print(f'{cls=}')\n",
    "        print('new', args)\n",
    "        # 작성한 인스터스를 반환함 \n",
    "        return super().__new__(cls) #오브젝트를 상속\n",
    "    def __init__(self, *args): # 이니셜라이저\n",
    "        # 인스턴스 초기화는 여기에서 수행함\n",
    "        print('init', args)"
   ]
  },
  {
   "cell_type": "code",
   "execution_count": null,
   "metadata": {},
   "outputs": [],
   "source": [
    "# 인스턴스화\n",
    "kls = Klass(1, 2, 3)"
   ]
  },
  {
   "cell_type": "markdown",
   "metadata": {},
   "source": [
    "### \\_\\_new\\_\\_() 사용 시 주의점"
   ]
  },
  {
   "cell_type": "code",
   "execution_count": null,
   "metadata": {},
   "outputs": [],
   "source": [
    "class Evil:\n",
    "    def __new__(cls, *args):\n",
    "        return 1"
   ]
  },
  {
   "cell_type": "code",
   "execution_count": null,
   "metadata": {},
   "outputs": [],
   "source": [
    "# Evil 클래스 인스턴스화\n",
    "evil = Evil()"
   ]
  },
  {
   "cell_type": "code",
   "execution_count": null,
   "metadata": {},
   "outputs": [],
   "source": [
    "isinstance(evil, Evil)"
   ]
  },
  {
   "cell_type": "code",
   "execution_count": null,
   "metadata": {},
   "outputs": [],
   "source": [
    "type(evil)"
   ]
  },
  {
   "cell_type": "code",
   "execution_count": null,
   "metadata": {},
   "outputs": [],
   "source": [
    "# 인스턴스는 __new__()의 반환값\n",
    "evil"
   ]
  },
  {
   "cell_type": "code",
   "execution_count": null,
   "metadata": {},
   "outputs": [],
   "source": [
    "class MyClass(Evil):\n",
    "    def print_class(self):\n",
    "        print('MyClass')"
   ]
  },
  {
   "cell_type": "code",
   "execution_count": null,
   "metadata": {},
   "outputs": [],
   "source": [
    "my = MyClass()  # my 값은 1이 됨"
   ]
  },
  {
   "cell_type": "code",
   "execution_count": null,
   "metadata": {
    "tags": [
     "raises-exception"
    ]
   },
   "outputs": [],
   "source": [
    "# 추가되었어야 할 메서드를 이용할 수 없음\n",
    "my.print_class()"
   ]
  },
  {
   "cell_type": "code",
   "execution_count": null,
   "metadata": {},
   "outputs": [],
   "source": [
    "my"
   ]
  },
  {
   "cell_type": "markdown",
   "metadata": {},
   "source": [
    "## 프로퍼티 ── 인스턴스 메서드를 인스턴스 변수와 같이 다룸"
   ]
  },
  {
   "cell_type": "markdown",
   "metadata": {},
   "source": [
    "프러퍼티 값 self 같이 다루겠다 <br>\n",
    "메소드 (self 메소드)\n",
    "\n",
    "겟터 - 가져오는것 <br>\n",
    "@get\n",
    "\n",
    "셋터 - 넣는것 <br>\n",
    " \n",
    "\n",
    "메소드 > 함수 > 리턴 > 값\n",
    "\n",
    "\n",
    "데코레이터 \n",
    "\n",
    "- 함수를 꾸며주는 <br>\n",
    " @데코레이터 <br>\n",
    "  def\n",
    "\n",
    "- 클래스를 꾸며주는  \n",
    " \n"
   ]
  },
  {
   "cell_type": "code",
   "execution_count": null,
   "metadata": {},
   "outputs": [],
   "source": [
    "class Book:\n",
    "    def __init__(self, raw_price):\n",
    "        if raw_price < 0:\n",
    "            raise ValueError('price must be positive')\n",
    "        self.raw_price = raw_price\n",
    "        self._discounts = 0\n",
    "    @property\n",
    "    def discounts(self):\n",
    "        return self._discounts\n",
    "    @discounts.setter\n",
    "    def discounts(self, value):\n",
    "        if value < 0 or 100 < value:\n",
    "            raise ValueError(\n",
    "                'discounts must be between 0 and 100')\n",
    "        self._discounts = value\n",
    "    @property\n",
    "    def price(self):\n",
    "        multi = 100 - self._discounts\n",
    "        return int(self.raw_price * multi / 100)\n",
    "    \n",
    "    "
   ]
  },
  {
   "cell_type": "code",
   "execution_count": null,
   "metadata": {},
   "outputs": [],
   "source": [
    "book = Book(2000)\n",
    "book.discounts  # 초기 할인율 0"
   ]
  },
  {
   "cell_type": "code",
   "execution_count": null,
   "metadata": {},
   "outputs": [],
   "source": [
    "book.price  # 초기 가격 2000"
   ]
  },
  {
   "cell_type": "code",
   "execution_count": null,
   "metadata": {},
   "outputs": [],
   "source": [
    "book.discounts = 20  # 할인율 설정, discounts 메소드 호출\n",
    "book.price  # 할인 후의 가격"
   ]
  },
  {
   "cell_type": "code",
   "execution_count": null,
   "metadata": {
    "tags": [
     "raises-exception"
    ]
   },
   "outputs": [],
   "source": [
    "book.discounts = 120  # 할인율이 100을 초과하면 에러 발생"
   ]
  },
  {
   "cell_type": "markdown",
   "metadata": {},
   "source": [
    "### property ── 값을 얻을 때 호출되는 메서드"
   ]
  },
  {
   "cell_type": "markdown",
   "metadata": {},
   "source": [
    "### setter ── 값을 설정할 때 호출되는 메서드"
   ]
  },
  {
   "cell_type": "code",
   "execution_count": null,
   "metadata": {
    "tags": [
     "raises-exception"
    ]
   },
   "outputs": [],
   "source": [
    "book.discounts = -20"
   ]
  },
  {
   "cell_type": "code",
   "execution_count": null,
   "metadata": {
    "tags": [
     "raises-exception"
    ]
   },
   "outputs": [],
   "source": [
    "book.price = 1000"
   ]
  },
  {
   "cell_type": "markdown",
   "metadata": {},
   "source": [
    "## 클래스와 인스턴스의 프라이빗 속성"
   ]
  },
  {
   "cell_type": "markdown",
   "metadata": {},
   "source": [
    "## 언더스코어로 시작하는 속성"
   ]
  },
  {
   "cell_type": "code",
   "execution_count": null,
   "metadata": {},
   "outputs": [],
   "source": [
    "book._discounts  # _로 시작하는 변수도 참조할 수 있음 / _ 암묵적을 변경 x "
   ]
  },
  {
   "cell_type": "markdown",
   "metadata": {},
   "source": [
    "### 언더스코어 2개로 시작하는 속성"
   ]
  },
  {
   "cell_type": "code",
   "execution_count": null,
   "metadata": {},
   "outputs": [],
   "source": [
    "class Klass:\n",
    "    def __init__(self, x):\n",
    "        # 인스턴스 프로퍼티\n",
    "        self.__x = x"
   ]
  },
  {
   "cell_type": "code",
   "execution_count": null,
   "metadata": {
    "tags": [
     "raises-exception"
    ]
   },
   "outputs": [],
   "source": [
    "kls = Klass(10) # 인스턴스화\n",
    "kls.__x  # 이 이름으로는 참조할 수 없음"
   ]
  },
  {
   "cell_type": "code",
   "execution_count": null,
   "metadata": {},
   "outputs": [],
   "source": [
    "kls._Klass__x  # 변환 규칙을 알고 있다면 참조할 수 있음"
   ]
  },
  {
   "cell_type": "markdown",
   "metadata": {},
   "source": [
    "### 프라이빗 속성에 대한 파이썬 커뮤니티의 사상"
   ]
  },
  {
   "cell_type": "markdown",
   "metadata": {},
   "source": [
    "# 클래스 ── 인스턴스의 모형이 되는 객체"
   ]
  },
  {
   "cell_type": "markdown",
   "metadata": {},
   "source": [
    "## 클래스 변수 ── 클래스 객체가 유지하는 변수\n",
    "\n",
    "ex) 누적값 클래스 안에서 유지\n",
    "\n",
    "그값을 공유하기 위해"
   ]
  },
  {
   "cell_type": "code",
   "execution_count": null,
   "metadata": {},
   "outputs": [],
   "source": [
    "# 클래스 변수를 가진 클래스 정의\n",
    "class Page:\n",
    "    book_title = 'Python Practice Book'"
   ]
  },
  {
   "cell_type": "code",
   "execution_count": null,
   "metadata": {},
   "outputs": [],
   "source": [
    "Page.book_title  # 인스턴스가 없어도 참조할 수 있음\n",
    "\n",
    "# 스태틱 메서드 > 인스턴스화 하지 않고도 사용 가능"
   ]
  },
  {
   "cell_type": "code",
   "execution_count": null,
   "metadata": {},
   "outputs": [],
   "source": [
    "Page.book_title = 'No title'  # 클래스 변수 업데이트\n",
    "Page.book_title"
   ]
  },
  {
   "cell_type": "markdown",
   "metadata": {},
   "source": [
    "### 클래스 변수는 인스턴스에서도 참조 가능"
   ]
  },
  {
   "cell_type": "code",
   "execution_count": null,
   "metadata": {},
   "outputs": [],
   "source": [
    "first_page = Page()\n",
    "second_page = Page()"
   ]
  },
  {
   "cell_type": "code",
   "execution_count": null,
   "metadata": {},
   "outputs": [],
   "source": [
    "# 클래스 변수는 인스턴스에서도 참조 가능\n",
    "first_page.book_title"
   ]
  },
  {
   "cell_type": "code",
   "execution_count": null,
   "metadata": {},
   "outputs": [],
   "source": [
    "second_page.book_title"
   ]
  },
  {
   "cell_type": "code",
   "execution_count": null,
   "metadata": {},
   "outputs": [],
   "source": [
    "# 클래스 변수 업데이트\n",
    "Page.book_title = 'Python Practice Book'"
   ]
  },
  {
   "cell_type": "code",
   "execution_count": null,
   "metadata": {},
   "outputs": [],
   "source": [
    "# 클래스 변수는 모든 인스턴스에서 공유됨\n",
    "first_page.book_title"
   ]
  },
  {
   "cell_type": "code",
   "execution_count": null,
   "metadata": {},
   "outputs": [],
   "source": [
    "second_page.book_title"
   ]
  },
  {
   "cell_type": "code",
   "execution_count": null,
   "metadata": {},
   "outputs": [],
   "source": [
    "# 아래는 인스턴스 변수가 됨\n",
    "first_page.book_title = '[Draft]Python Practice Book'\n",
    "first_page.book_title"
   ]
  },
  {
   "cell_type": "code",
   "execution_count": null,
   "metadata": {},
   "outputs": [],
   "source": [
    "# 클래스 변수는 변경되지 않음\n",
    "Page.book_title"
   ]
  },
  {
   "cell_type": "code",
   "execution_count": null,
   "metadata": {},
   "outputs": [],
   "source": [
    "first_page.book_title  # 인스턴스 변수"
   ]
  },
  {
   "cell_type": "code",
   "execution_count": null,
   "metadata": {},
   "outputs": [],
   "source": [
    "# 인스턴스 변수 삭제\n",
    "del first_page.book_title"
   ]
  },
  {
   "cell_type": "code",
   "execution_count": null,
   "metadata": {},
   "outputs": [],
   "source": [
    "# 인스턴스 속성이 아니므로, 클래스 속성이 검색됨\n",
    "first_page.book_title"
   ]
  },
  {
   "cell_type": "markdown",
   "metadata": {},
   "source": [
    "## 클래스 메서드 ── 클래스에 속한 메서드"
   ]
  },
  {
   "cell_type": "code",
   "execution_count": 1,
   "metadata": {},
   "outputs": [],
   "source": [
    "# 속성을 이용한 정렬에 사용할 수 있는 표준 라이브러리를 임포트\n",
    "from operator import attrgetter"
   ]
  },
  {
   "cell_type": "code",
   "execution_count": 2,
   "metadata": {},
   "outputs": [],
   "source": [
    "class Page:\n",
    "    book_title = 'Python Practice Book'\n",
    "\n",
    "    # 생성자 인자 2개 받음\n",
    "    def __init__(self, num, content):\n",
    "        self.num = num   # 인스턴스 변수\n",
    "        self.content = content\n",
    "\n",
    "    def output(self):    # 인스턴스 메서드\n",
    "        return f'{self.content}'  # 겟터\n",
    "    \n",
    "    # 클래스 메서드의 첫 번째 인수는 클래스 객체\n",
    "    @classmethod # 클래스 메서드 데코레이터  > 클래스 변수에 접근(공유)할 수 있음\n",
    "    def print_pages(cls, *pages):  # 가변위치인자\n",
    "        # 클래스 객체 이용\n",
    "        print(cls.book_title)\n",
    "        pages = list(pages)\n",
    "        # 페이지 순으로 정렬해서 출력\n",
    "        for page in sorted(pages, key=attrgetter('num')):\n",
    "            print(page.output())"
   ]
  },
  {
   "cell_type": "code",
   "execution_count": 3,
   "metadata": {},
   "outputs": [],
   "source": [
    "first = Page(1, 'first page')\n",
    "second = Page(2, 'second page')\n",
    "third = Page(3, 'third page')"
   ]
  },
  {
   "cell_type": "code",
   "execution_count": 4,
   "metadata": {},
   "outputs": [
    {
     "name": "stdout",
     "output_type": "stream",
     "text": [
      "Python Practice Book\n",
      "first page\n",
      "second page\n",
      "third page\n"
     ]
    }
   ],
   "source": [
    "# 클래스 메서드 호출\n",
    "Page.print_pages(first, third, second)"
   ]
  },
  {
   "cell_type": "code",
   "execution_count": 5,
   "metadata": {},
   "outputs": [
    {
     "name": "stdout",
     "output_type": "stream",
     "text": [
      "Python Practice Book\n",
      "first page\n",
      "second page\n",
      "third page\n"
     ]
    }
   ],
   "source": [
    "# 인스턴스에서도 호출할 수 있음\n",
    "first.print_pages(first, third, second)"
   ]
  },
  {
   "cell_type": "markdown",
   "metadata": {},
   "source": [
    "## 스태틱 메서드 ── 함수처럼 동작하는 메서드\n",
    "\n",
    "유틸리티성"
   ]
  },
  {
   "cell_type": "code",
   "execution_count": 7,
   "metadata": {},
   "outputs": [],
   "source": [
    "class Page:\n",
    "    def __init__(self, num, content):\n",
    "        self.num = num\n",
    "        self.content = content\n",
    "    @staticmethod  # 스태틱 메서드로 정의\n",
    "    def check_blank(page):\n",
    "        return bool(page.content)\n",
    "    \n",
    "    @staticmethod\n",
    "    def is_num(a):\n",
    "        if isinstance(a, int):\n",
    "            return True\n",
    "        return False "
   ]
  },
  {
   "cell_type": "code",
   "execution_count": 9,
   "metadata": {},
   "outputs": [
    {
     "data": {
      "text/plain": [
       "True"
      ]
     },
     "execution_count": 9,
     "metadata": {},
     "output_type": "execute_result"
    }
   ],
   "source": [
    "is_num = Page.is_num(10)\n",
    "is_num"
   ]
  },
  {
   "cell_type": "code",
   "execution_count": 10,
   "metadata": {},
   "outputs": [
    {
     "data": {
      "text/plain": [
       "False"
      ]
     },
     "execution_count": 10,
     "metadata": {},
     "output_type": "execute_result"
    }
   ],
   "source": [
    "page = Page(1, '')\n",
    "Page.check_blank(page)"
   ]
  },
  {
   "cell_type": "code",
   "execution_count": 11,
   "metadata": {},
   "outputs": [],
   "source": [
    "def check_blank(page):  # 함수로 문제 없음\n",
    "    return bool(page.content)"
   ]
  },
  {
   "cell_type": "code",
   "execution_count": null,
   "metadata": {},
   "outputs": [],
   "source": [
    "check_blank(page)"
   ]
  },
  {
   "cell_type": "markdown",
   "metadata": {},
   "source": [
    "# 클래스 상속"
   ]
  },
  {
   "cell_type": "markdown",
   "metadata": {},
   "source": [
    "부모 클래스의 기능을 그대로 이용하면서 필요한 기능만 추가하거나 변경하여 새로운 클래스를 만들 수 있음\n",
    "\n",
    "자식의 메소드가 우선시\n",
    "\n",
    "//\n",
    "\n",
    "클래스 오버로딩(드) \n",
    "\n",
    "같은 이름 허용\n"
   ]
  },
  {
   "cell_type": "code",
   "execution_count": 12,
   "metadata": {},
   "outputs": [],
   "source": [
    "# 클래스 오버로딩\n",
    "class klass:\n",
    "    def 메소드(self, a, b):\n",
    "        return a + b\n",
    "    def 메소드(self, a, b, c):\n",
    "        return \"asd\" "
   ]
  },
  {
   "cell_type": "markdown",
   "metadata": {},
   "source": [
    "## 메서드 오버라이드와 super()를 사용한 베이스 클래스로의 접근"
   ]
  },
  {
   "cell_type": "code",
   "execution_count": 13,
   "metadata": {},
   "outputs": [],
   "source": [
    "class Page:\n",
    "    def __init__(self, num, content):\n",
    "        self.num = num\n",
    "        self.content = content\n",
    "    def output(self):\n",
    "        return f'{self.content}'"
   ]
  },
  {
   "cell_type": "code",
   "execution_count": 14,
   "metadata": {},
   "outputs": [],
   "source": [
    "# 메서드 오버라이드 \n",
    "class TitlePage(Page):\n",
    "    def output(self):\n",
    "        # 베이스 클래스의 메서드는 자동으로 호출되지 않으므로\n",
    "        # 명시적으로 호출함\n",
    "        title = super().output() # 베이스 클래스의 output() 호출\n",
    "        return title.upper()"
   ]
  },
  {
   "cell_type": "code",
   "execution_count": 15,
   "metadata": {},
   "outputs": [
    {
     "data": {
      "text/plain": [
       "'PYTHON PRACTICE BOOK'"
      ]
     },
     "execution_count": 15,
     "metadata": {},
     "output_type": "execute_result"
    }
   ],
   "source": [
    "title = TitlePage(0, 'Python Practice Book')\n",
    "title.output()"
   ]
  },
  {
   "cell_type": "markdown",
   "metadata": {},
   "source": [
    "## 모든 객체는 object 클래스의 서브 클래스\n",
    "\n",
    "파이썬은 모든것이 객채\n",
    "\n",
    "- 클래스 통해\n"
   ]
  },
  {
   "cell_type": "code",
   "execution_count": 16,
   "metadata": {},
   "outputs": [],
   "source": [
    "class Length(float):  # 내장 타입의 서브 클래스 작성\n",
    "    def to_cm(self):\n",
    "        return super().__str__() + 'cm'"
   ]
  },
  {
   "cell_type": "code",
   "execution_count": 18,
   "metadata": {},
   "outputs": [
    {
     "name": "stdout",
     "output_type": "stream",
     "text": [
      "16.0cm\n"
     ]
    }
   ],
   "source": [
    "pencil_length = Length(16)\n",
    "print(pencil_length.to_cm())"
   ]
  },
  {
   "cell_type": "markdown",
   "metadata": {},
   "source": [
    "## 다중 상속 ── 여러 베이스 클래스를 지정\n",
    "\n",
    "추상 클래스는 메소드의 목록만 제공하고 하위 클래스에서 이 메소드들의 구현을 강제하는 클래스\n",
    "\n",
    "이름 구체화해야 메소드오버라이딩 일어남\n",
    "\n",
    "- 인터페이스\n",
    "\n",
    "    모든게 추상적/\n",
    "    모든게 이름만/\n",
    "    클래스는 아님\n",
    "        "
   ]
  },
  {
   "cell_type": "code",
   "execution_count": 19,
   "metadata": {},
   "outputs": [],
   "source": [
    "class HTMLPageMixin:\n",
    "    def to_html(self):\n",
    "        return f'<html><body>{self.output()}</body></html>'"
   ]
  },
  {
   "cell_type": "code",
   "execution_count": 20,
   "metadata": {},
   "outputs": [],
   "source": [
    "# 다중 상속을 사용한 Mixin 이용\n",
    "class WebPage(Page, HTMLPageMixin):\n",
    "    pass"
   ]
  },
  {
   "cell_type": "code",
   "execution_count": 21,
   "metadata": {},
   "outputs": [
    {
     "data": {
      "text/plain": [
       "'<html><body>web content</body></html>'"
      ]
     },
     "execution_count": 21,
     "metadata": {},
     "output_type": "execute_result"
    }
   ],
   "source": [
    "page = WebPage(0, 'web content')\n",
    "page.to_html()"
   ]
  },
  {
   "cell_type": "markdown",
   "metadata": {},
   "source": [
    "### 다중 상속 시 주의점"
   ]
  },
  {
   "cell_type": "code",
   "execution_count": 22,
   "metadata": {},
   "outputs": [],
   "source": [
    "class A:\n",
    "    def hello(self):\n",
    "        print('Hello')\n",
    "\n",
    "class B(A):\n",
    "    def hello(self):\n",
    "        print('Hola')\n",
    "        super().hello()  # 베이스 클래스의 메서드를 실행\n",
    "\n",
    "class C(A):\n",
    "    def hello(self):\n",
    "        print('안녕하세요')\n",
    "        super().hello()  # 베이스 클래스의 메서드를 실행\n",
    "\n",
    "class D(B, C):\n",
    "    def hello(self):\n",
    "        print('Xin Chao')\n",
    "        super().hello()  # 베이스 클래스의 메서드를 실행"
   ]
  },
  {
   "cell_type": "code",
   "execution_count": 23,
   "metadata": {},
   "outputs": [
    {
     "name": "stdout",
     "output_type": "stream",
     "text": [
      "Xin Chao\n",
      "Hola\n",
      "안녕하세요\n",
      "Hello\n"
     ]
    }
   ],
   "source": [
    "d = D()\n",
    "d.hello()"
   ]
  },
  {
   "cell_type": "markdown",
   "metadata": {},
   "source": [
    "### \\_\\_mro\\_\\_ 이용한 시용한 메서드 결정 순서 확인"
   ]
  },
  {
   "cell_type": "code",
   "execution_count": 25,
   "metadata": {},
   "outputs": [
    {
     "data": {
      "text/plain": [
       "(__main__.D, __main__.B, __main__.C, __main__.A, object)"
      ]
     },
     "execution_count": 25,
     "metadata": {},
     "output_type": "execute_result"
    }
   ],
   "source": [
    "D.__mro__  # 메서드 결정 순서 확인"
   ]
  },
  {
   "cell_type": "code",
   "execution_count": 26,
   "metadata": {},
   "outputs": [
    {
     "name": "stdout",
     "output_type": "stream",
     "text": [
      "Xin Chao\n",
      "Hola\n",
      "안녕하세요\n",
      "Hello\n"
     ]
    }
   ],
   "source": [
    "d.hello()"
   ]
  },
  {
   "cell_type": "markdown",
   "metadata": {},
   "source": [
    "# 정리\n",
    "\n"
   ]
  }
 ],
 "metadata": {
  "kernelspec": {
   "display_name": "Python 3",
   "language": "python",
   "name": "python3"
  },
  "language_info": {
   "codemirror_mode": {
    "name": "ipython",
    "version": 3
   },
   "file_extension": ".py",
   "mimetype": "text/x-python",
   "name": "python",
   "nbconvert_exporter": "python",
   "pygments_lexer": "ipython3",
   "version": "3.12.3"
  }
 },
 "nbformat": 4,
 "nbformat_minor": 4
}
